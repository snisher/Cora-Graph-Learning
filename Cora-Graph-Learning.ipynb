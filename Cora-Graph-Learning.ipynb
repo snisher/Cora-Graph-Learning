{
 "cells": [
  {
   "cell_type": "code",
   "execution_count": 1,
   "metadata": {},
   "outputs": [],
   "source": [
    "using Flux\n",
    "using JLD2\n",
    "using SparseArrays\n",
    "using LightGraphs\n",
    "using LightGraphs: SimpleGraphs\n",
    "using LinearAlgebra\n",
    "using Flux: glorot_uniform, onecold, @epochs, throttle, train!, batch\n",
    "using Statistics: mean\n",
    "using Random: randperm\n",
    "using Base.Iterators: partition"
   ]
  },
  {
   "cell_type": "code",
   "execution_count": 2,
   "metadata": {},
   "outputs": [],
   "source": [
    "# Data loading and prep\n",
    "@load \"data/cora_features.jld2\" features\n",
    "@load \"data/cora_labels.jld2\" labels\n",
    "@load \"data/cora_graph.jld2\" g\n",
    "\n",
    "num_nodes = 2708\n",
    "num_features = 1433\n",
    "target_category = 7\n",
    "\n",
    "# convert values to Float32 for training\n",
    "features = map(Float32, features)\n",
    "\n",
    "# convert to dense\n",
    "feature_matrix = Matrix(features)\n",
    "label_matrix = Matrix(labels);"
   ]
  },
  {
   "cell_type": "code",
   "execution_count": 3,
   "metadata": {},
   "outputs": [],
   "source": [
    "# split a feature array and label array into train and test. Shuffled as well.\n",
    "function train_test_split(features::Array{Float32,2}, labels::Array{Int64,2}; split::Float32=.2f0, num::Int64=num_nodes)\n",
    "    feature_vecs = [features[:,node] for node in 1:num] # all feature vectors\n",
    "    label_vecs = [labels[:,node] for node in 1:num] # all label vectors\n",
    "\n",
    "    rand_indices = randperm(num) # get a list of random indices\n",
    "    split_index = Int(floor(num*(1-split)))\n",
    "    train_indices = rand_indices[1:split_index] # indices of the training data\n",
    "    test_indices = rand_indices[split_index+1:num] # indices of the testing data\n",
    "\n",
    "    X_train = [feature_vecs[i] for i in train_indices]\n",
    "    X_test = [feature_vecs[i] for i in test_indices]\n",
    "    y_train = [label_vecs[i] for i in train_indices]\n",
    "    y_test = [label_vecs[i] for i in test_indices]\n",
    "\n",
    "    return((X_train, X_test, y_train, y_test))\n",
    "end;"
   ]
  },
  {
   "cell_type": "markdown",
   "metadata": {},
   "source": [
    "### Graph Stuff and Data Prep"
   ]
  },
  {
   "cell_type": "code",
   "execution_count": 4,
   "metadata": {},
   "outputs": [],
   "source": [
    "function normalize_matrix(adj::SparseMatrixCSC, dtype=Float32)\n",
    "# applies the normalization D^(-1/2) x A x D^(-1/2) where A is the adjacency matrix\n",
    "# and D is the degree matrix of A\n",
    "    len = size(adj, 1)\n",
    "    degrees = sum(adj, dims=2) # get a list of the row sums\n",
    "    degrees = degrees.^(-1/2) # can do this now instead of on whole degree matrix\n",
    "    replace!(degrees, Inf=>0.0) # remove possible infities\n",
    "    degree_matrix = zeros(len, len) # matrix of zeros\n",
    "    for index in 1:len\n",
    "        degree_matrix[index, index] = degrees[index] # add degree values along the diagonal\n",
    "    end\n",
    "    norm = degree_matrix*(adj*degree_matrix) # D^(-1/2) x A x D^(-1/2) (dense matrix)\n",
    "    norm = map(dtype, norm) # convert to specified dtype\n",
    "    norm = sparse(norm)\n",
    "    return norm\n",
    "end\n",
    "\n",
    "# takes a sparse matrix, returns a sparse matrix\n",
    "function prepare_adj(adj::SparseMatrixCSC)\n",
    "    adj += I # add self loops to adj\n",
    "    return( normalize_matrix(adj) )\n",
    "end\n",
    "\n",
    "# takes a dense matrix, sparse matrix, and Int, returns dense matrix\n",
    "function propogate_features(features::Array{Float32,2}, adj::SparseMatrixCSC{Float32, Int64}, times::Int64)\n",
    "    features_propogated = features*(adj^times)\n",
    "    @assert typeof(features) == Array{Float32,2}\n",
    "    return features_propogated\n",
    "end;"
   ]
  },
  {
   "cell_type": "code",
   "execution_count": 5,
   "metadata": {},
   "outputs": [],
   "source": [
    "adj = adjacency_matrix(g) # get the adjacency matrix of the graph\n",
    "adj_norm = prepare_adj(adj) # normalize\n",
    "feature_matrix_prop = propogate_features(feature_matrix, adj_norm, 5); # propogate features to neighboring nodes"
   ]
  },
  {
   "cell_type": "code",
   "execution_count": 6,
   "metadata": {},
   "outputs": [],
   "source": [
    "# data prep for propogated features\n",
    "X_train_prop, X_test_prop, y_train_prop, y_test_prop = train_test_split(feature_matrix_prop, label_matrix)\n",
    "\n",
    "# tuples of unbatched train and test\n",
    "train_prop = collect(zip(X_train_prop, y_train_prop))\n",
    "test_prop = collect(zip(X_test_prop, y_test_prop))\n",
    "\n",
    "# train and test batched into matrices\n",
    "X_train_prop_batch = batch(X_train_prop)\n",
    "X_test_prop_batch = batch(X_test_prop)\n",
    "y_train_prop_batch = batch(y_train_prop)\n",
    "y_test_prop_batch = batch(y_test_prop)\n",
    "\n",
    "# size 40 mini batches\n",
    "X_train_prop_mini_batches = map(batch, partition(X_train_prop, 40))\n",
    "X_test_prop_mini_batches = map(batch, partition(X_test_prop, 40))\n",
    "y_train_prop_mini_batches = map(batch, partition(y_train_prop, 40))\n",
    "y_test_prop_mini_batches = map(batch, partition(y_test_prop, 40));"
   ]
  },
  {
   "cell_type": "markdown",
   "metadata": {},
   "source": [
    "### Linear Model"
   ]
  },
  {
   "cell_type": "code",
   "execution_count": 7,
   "metadata": {},
   "outputs": [
    {
     "name": "stderr",
     "output_type": "stream",
     "text": [
      "┌ Info: Epoch 1\n",
      "└ @ Main /Users/fisher/.julia/packages/Flux/SBE4X/src/optimise/train.jl:99\n"
     ]
    },
    {
     "name": "stdout",
     "output_type": "stream",
     "text": [
      "accuracy(X_test_prop_batch, y_test_prop_batch) = 0.25092250922509224\n",
      "accuracy(X_test_prop_batch, y_test_prop_batch) = 0.45018450184501846\n"
     ]
    },
    {
     "name": "stderr",
     "output_type": "stream",
     "text": [
      "┌ Info: Epoch 2\n",
      "└ @ Main /Users/fisher/.julia/packages/Flux/SBE4X/src/optimise/train.jl:99\n"
     ]
    },
    {
     "name": "stdout",
     "output_type": "stream",
     "text": [
      "accuracy(X_test_prop_batch, y_test_prop_batch) = 0.5738007380073801\n"
     ]
    },
    {
     "name": "stderr",
     "output_type": "stream",
     "text": [
      "┌ Info: Epoch 3\n",
      "└ @ Main /Users/fisher/.julia/packages/Flux/SBE4X/src/optimise/train.jl:99\n"
     ]
    },
    {
     "name": "stdout",
     "output_type": "stream",
     "text": [
      "accuracy(X_test_prop_batch, y_test_prop_batch) = 0.6549815498154982\n"
     ]
    },
    {
     "name": "stderr",
     "output_type": "stream",
     "text": [
      "┌ Info: Epoch 4\n",
      "└ @ Main /Users/fisher/.julia/packages/Flux/SBE4X/src/optimise/train.jl:99\n"
     ]
    },
    {
     "name": "stdout",
     "output_type": "stream",
     "text": [
      "accuracy(X_test_prop_batch, y_test_prop_batch) = 0.7177121771217713\n"
     ]
    },
    {
     "name": "stderr",
     "output_type": "stream",
     "text": [
      "┌ Info: Epoch 5\n",
      "└ @ Main /Users/fisher/.julia/packages/Flux/SBE4X/src/optimise/train.jl:99\n"
     ]
    },
    {
     "name": "stdout",
     "output_type": "stream",
     "text": [
      "accuracy(X_test_prop_batch, y_test_prop_batch) = 0.7693726937269373\n"
     ]
    },
    {
     "name": "stderr",
     "output_type": "stream",
     "text": [
      "┌ Info: Epoch 6\n",
      "└ @ Main /Users/fisher/.julia/packages/Flux/SBE4X/src/optimise/train.jl:99\n"
     ]
    },
    {
     "name": "stdout",
     "output_type": "stream",
     "text": [
      "accuracy(X_test_prop_batch, y_test_prop_batch) = 0.8136531365313653\n"
     ]
    },
    {
     "name": "stderr",
     "output_type": "stream",
     "text": [
      "┌ Info: Epoch 7\n",
      "└ @ Main /Users/fisher/.julia/packages/Flux/SBE4X/src/optimise/train.jl:99\n"
     ]
    },
    {
     "name": "stdout",
     "output_type": "stream",
     "text": [
      "accuracy(X_test_prop_batch, y_test_prop_batch) = 0.8173431734317343\n"
     ]
    },
    {
     "name": "stderr",
     "output_type": "stream",
     "text": [
      "┌ Info: Epoch 8\n",
      "└ @ Main /Users/fisher/.julia/packages/Flux/SBE4X/src/optimise/train.jl:99\n"
     ]
    },
    {
     "name": "stdout",
     "output_type": "stream",
     "text": [
      "accuracy(X_test_prop_batch, y_test_prop_batch) = 0.8376383763837638\n"
     ]
    },
    {
     "name": "stderr",
     "output_type": "stream",
     "text": [
      "┌ Info: Epoch 9\n",
      "└ @ Main /Users/fisher/.julia/packages/Flux/SBE4X/src/optimise/train.jl:99\n"
     ]
    },
    {
     "name": "stdout",
     "output_type": "stream",
     "text": [
      "accuracy(X_test_prop_batch, y_test_prop_batch) = 0.8431734317343174\n"
     ]
    },
    {
     "name": "stderr",
     "output_type": "stream",
     "text": [
      "┌ Info: Epoch 10\n",
      "└ @ Main /Users/fisher/.julia/packages/Flux/SBE4X/src/optimise/train.jl:99\n"
     ]
    },
    {
     "name": "stdout",
     "output_type": "stream",
     "text": [
      "accuracy(X_test_prop_batch, y_test_prop_batch) = 0.8505535055350554\n"
     ]
    },
    {
     "name": "stderr",
     "output_type": "stream",
     "text": [
      "┌ Info: Epoch 11\n",
      "└ @ Main /Users/fisher/.julia/packages/Flux/SBE4X/src/optimise/train.jl:99\n"
     ]
    },
    {
     "name": "stdout",
     "output_type": "stream",
     "text": [
      "accuracy(X_test_prop_batch, y_test_prop_batch) = 0.8560885608856088\n"
     ]
    },
    {
     "name": "stderr",
     "output_type": "stream",
     "text": [
      "┌ Info: Epoch 12\n",
      "└ @ Main /Users/fisher/.julia/packages/Flux/SBE4X/src/optimise/train.jl:99\n"
     ]
    },
    {
     "name": "stdout",
     "output_type": "stream",
     "text": [
      "accuracy(X_test_prop_batch, y_test_prop_batch) = 0.8616236162361623\n"
     ]
    },
    {
     "name": "stderr",
     "output_type": "stream",
     "text": [
      "┌ Info: Epoch 13\n",
      "└ @ Main /Users/fisher/.julia/packages/Flux/SBE4X/src/optimise/train.jl:99\n"
     ]
    },
    {
     "name": "stdout",
     "output_type": "stream",
     "text": [
      "accuracy(X_test_prop_batch, y_test_prop_batch) = 0.8616236162361623\n"
     ]
    },
    {
     "name": "stderr",
     "output_type": "stream",
     "text": [
      "┌ Info: Epoch 14\n",
      "└ @ Main /Users/fisher/.julia/packages/Flux/SBE4X/src/optimise/train.jl:99\n"
     ]
    },
    {
     "name": "stdout",
     "output_type": "stream",
     "text": [
      "accuracy(X_test_prop_batch, y_test_prop_batch) = 0.8616236162361623\n"
     ]
    },
    {
     "name": "stderr",
     "output_type": "stream",
     "text": [
      "┌ Info: Epoch 15\n",
      "└ @ Main /Users/fisher/.julia/packages/Flux/SBE4X/src/optimise/train.jl:99\n"
     ]
    }
   ],
   "source": [
    "lin = Flux.Chain(Dropout(.4), Dense(num_features, target_category, identity), Flux.softmax) # The linear model (with dropout)\n",
    "loss(x, y) = Flux.crossentropy(lin(x), y) # loss function (crossentropy)\n",
    "opt = ADAM() # optimiser\n",
    "\n",
    "accuracy(x, y) = mean(onecold(lin(x)) .== onecold(y))\n",
    "evalcb() = @show(accuracy(X_test_prop_batch, y_test_prop_batch)) # callback for each training loop\n",
    "\n",
    "@epochs 15 train!(loss, params(lin), zip(X_train_prop_mini_batches, y_train_prop_mini_batches), opt, cb=throttle(evalcb, 5))"
   ]
  },
  {
   "cell_type": "markdown",
   "metadata": {},
   "source": [
    "### Plot feature importance\n",
    "A linear model allows the importance of the features to be directly analyzed based on the weight assigned to each feature. This graph shows the most influential features for the prediction of the specified category."
   ]
  },
  {
   "cell_type": "code",
   "execution_count": 8,
   "metadata": {},
   "outputs": [],
   "source": [
    "using Plots\n",
    "using Colors\n",
    "gr() # plots backend\n",
    "\n",
    "# helper function for fill_colors()\n",
    "# finds the proper bin. bin_edges needs largest value first\n",
    "function find_bin(val, bin_edges)\n",
    "    if val ≈ bin_edges[end] # if the value is equal to the last bin edge\n",
    "        return (length(bin_edges)-1) # return the index of the last bin\n",
    "    end\n",
    "    for i in 1:(length(bin_edges)-1) # for each bin index\n",
    "        if val <= bin_edges[i] && val > bin_edges[i+1]\n",
    "            return i\n",
    "        end\n",
    "    end\n",
    "    return -1\n",
    "end\n",
    "\n",
    "# helper function for plot_features()\n",
    "# takes an array of bar heights and (optionally) 2 colors, returns array of colors\n",
    "function fill_colors(yvals::Array{Float32}; c1::RGB=colorant\"lightblue\", c2::RGB=colorant\"darkorange\")\n",
    "    color_range = collect(range(c1, stop=c2, length=50)) # get range of colors\n",
    "    colors = [] # create the array to hold the color of the bars\n",
    "    bins = collect(range(yvals[1], stop=yvals[end], length=50)) # create buckets for the data\n",
    "    # for each value, get the bucket index, add corresponding color to the array\n",
    "    for val in yvals\n",
    "        bin = find_bin(val, bins) # get the bin of the val\n",
    "        push!(colors, color_range[bin]) # append the\n",
    "    end\n",
    "    return colors\n",
    "end\n",
    "\n",
    "# takes a linear model and plots the weights of the first [num_feats] most\n",
    "# important features for the classification category [class]\n",
    "# num_feats == number of positive features == number of negative features\n",
    "function plot_features(lin; class::Int64=1, num_feats::Int64=6)\n",
    "    @assert class in 1:7 # must be valid class number\n",
    "\n",
    "    weights = params(lin).order[1][class,:]\n",
    "    sorted_indices = sortperm(weights, rev=true) # index of largest coefficient first\n",
    "\n",
    "    x_axis_high = map(string, sorted_indices[1:num_feats]) # get strings for x axis\n",
    "    y_axis_high = weights[sorted_indices[1:num_feats]]\n",
    "\n",
    "    x_axis_low = map(string, sorted_indices[end-(num_feats-1):end])\n",
    "    y_axis_low = weights[sorted_indices[end-(num_feats-1):end]]\n",
    "\n",
    "    x_axis = vcat(x_axis_high, x_axis_low)\n",
    "    y_axis = vcat(y_axis_high, y_axis_low)\n",
    "\n",
    "    cs = fill_colors(y_axis)\n",
    "\n",
    "    bar(x_axis, y_axis, label=\"\", xlabel=\"Feature\", ylabel=\"Weight\", title=\"Category $class\", color=cs)\n",
    "end;"
   ]
  },
  {
   "cell_type": "code",
   "execution_count": 14,
   "metadata": {},
   "outputs": [
    {
     "data": {
      "image/svg+xml": [
       "<?xml version=\"1.0\" encoding=\"utf-8\"?>\n",
       "<svg xmlns=\"http://www.w3.org/2000/svg\" xmlns:xlink=\"http://www.w3.org/1999/xlink\" width=\"600\" height=\"400\" viewBox=\"0 0 2400 1600\">\n",
       "<defs>\n",
       "  <clipPath id=\"clip5300\">\n",
       "    <rect x=\"0\" y=\"0\" width=\"2400\" height=\"1600\"/>\n",
       "  </clipPath>\n",
       "</defs>\n",
       "<polygon clip-path=\"url(#clip5300)\" points=\"\n",
       "0,1600 2400,1600 2400,0 0,0 \n",
       "  \" fill=\"#ffffff\" fill-rule=\"evenodd\" fill-opacity=\"1\"/>\n",
       "<defs>\n",
       "  <clipPath id=\"clip5301\">\n",
       "    <rect x=\"480\" y=\"0\" width=\"1681\" height=\"1600\"/>\n",
       "  </clipPath>\n",
       "</defs>\n",
       "<polygon clip-path=\"url(#clip5300)\" points=\"\n",
       "243.864,1425.62 2352.76,1425.62 2352.76,121.675 243.864,121.675 \n",
       "  \" fill=\"#ffffff\" fill-rule=\"evenodd\" fill-opacity=\"1\"/>\n",
       "<defs>\n",
       "  <clipPath id=\"clip5302\">\n",
       "    <rect x=\"243\" y=\"121\" width=\"2110\" height=\"1305\"/>\n",
       "  </clipPath>\n",
       "</defs>\n",
       "<polyline clip-path=\"url(#clip5302)\" style=\"stroke:#000000; stroke-width:2; stroke-opacity:0.1; fill:none\" points=\"\n",
       "  423.481,1425.62 423.481,121.675 \n",
       "  \"/>\n",
       "<polyline clip-path=\"url(#clip5302)\" style=\"stroke:#000000; stroke-width:2; stroke-opacity:0.1; fill:none\" points=\"\n",
       "  582.541,1425.62 582.541,121.675 \n",
       "  \"/>\n",
       "<polyline clip-path=\"url(#clip5302)\" style=\"stroke:#000000; stroke-width:2; stroke-opacity:0.1; fill:none\" points=\"\n",
       "  741.601,1425.62 741.601,121.675 \n",
       "  \"/>\n",
       "<polyline clip-path=\"url(#clip5302)\" style=\"stroke:#000000; stroke-width:2; stroke-opacity:0.1; fill:none\" points=\"\n",
       "  900.66,1425.62 900.66,121.675 \n",
       "  \"/>\n",
       "<polyline clip-path=\"url(#clip5302)\" style=\"stroke:#000000; stroke-width:2; stroke-opacity:0.1; fill:none\" points=\"\n",
       "  1059.72,1425.62 1059.72,121.675 \n",
       "  \"/>\n",
       "<polyline clip-path=\"url(#clip5302)\" style=\"stroke:#000000; stroke-width:2; stroke-opacity:0.1; fill:none\" points=\"\n",
       "  1218.78,1425.62 1218.78,121.675 \n",
       "  \"/>\n",
       "<polyline clip-path=\"url(#clip5302)\" style=\"stroke:#000000; stroke-width:2; stroke-opacity:0.1; fill:none\" points=\"\n",
       "  1377.84,1425.62 1377.84,121.675 \n",
       "  \"/>\n",
       "<polyline clip-path=\"url(#clip5302)\" style=\"stroke:#000000; stroke-width:2; stroke-opacity:0.1; fill:none\" points=\"\n",
       "  1536.9,1425.62 1536.9,121.675 \n",
       "  \"/>\n",
       "<polyline clip-path=\"url(#clip5302)\" style=\"stroke:#000000; stroke-width:2; stroke-opacity:0.1; fill:none\" points=\"\n",
       "  1695.96,1425.62 1695.96,121.675 \n",
       "  \"/>\n",
       "<polyline clip-path=\"url(#clip5302)\" style=\"stroke:#000000; stroke-width:2; stroke-opacity:0.1; fill:none\" points=\"\n",
       "  1855.02,1425.62 1855.02,121.675 \n",
       "  \"/>\n",
       "<polyline clip-path=\"url(#clip5302)\" style=\"stroke:#000000; stroke-width:2; stroke-opacity:0.1; fill:none\" points=\"\n",
       "  2014.08,1425.62 2014.08,121.675 \n",
       "  \"/>\n",
       "<polyline clip-path=\"url(#clip5302)\" style=\"stroke:#000000; stroke-width:2; stroke-opacity:0.1; fill:none\" points=\"\n",
       "  2173.14,1425.62 2173.14,121.675 \n",
       "  \"/>\n",
       "<polyline clip-path=\"url(#clip5302)\" style=\"stroke:#000000; stroke-width:2; stroke-opacity:0.1; fill:none\" points=\"\n",
       "  243.864,1226.28 2352.76,1226.28 \n",
       "  \"/>\n",
       "<polyline clip-path=\"url(#clip5302)\" style=\"stroke:#000000; stroke-width:2; stroke-opacity:0.1; fill:none\" points=\"\n",
       "  243.864,963.726 2352.76,963.726 \n",
       "  \"/>\n",
       "<polyline clip-path=\"url(#clip5302)\" style=\"stroke:#000000; stroke-width:2; stroke-opacity:0.1; fill:none\" points=\"\n",
       "  243.864,701.167 2352.76,701.167 \n",
       "  \"/>\n",
       "<polyline clip-path=\"url(#clip5302)\" style=\"stroke:#000000; stroke-width:2; stroke-opacity:0.1; fill:none\" points=\"\n",
       "  243.864,438.607 2352.76,438.607 \n",
       "  \"/>\n",
       "<polyline clip-path=\"url(#clip5302)\" style=\"stroke:#000000; stroke-width:2; stroke-opacity:0.1; fill:none\" points=\"\n",
       "  243.864,176.048 2352.76,176.048 \n",
       "  \"/>\n",
       "<polyline clip-path=\"url(#clip5300)\" style=\"stroke:#000000; stroke-width:4; stroke-opacity:1; fill:none\" points=\"\n",
       "  243.864,1425.62 2352.76,1425.62 \n",
       "  \"/>\n",
       "<polyline clip-path=\"url(#clip5300)\" style=\"stroke:#000000; stroke-width:4; stroke-opacity:1; fill:none\" points=\"\n",
       "  243.864,1425.62 243.864,121.675 \n",
       "  \"/>\n",
       "<polyline clip-path=\"url(#clip5300)\" style=\"stroke:#000000; stroke-width:4; stroke-opacity:1; fill:none\" points=\"\n",
       "  423.481,1425.62 423.481,1406.06 \n",
       "  \"/>\n",
       "<polyline clip-path=\"url(#clip5300)\" style=\"stroke:#000000; stroke-width:4; stroke-opacity:1; fill:none\" points=\"\n",
       "  582.541,1425.62 582.541,1406.06 \n",
       "  \"/>\n",
       "<polyline clip-path=\"url(#clip5300)\" style=\"stroke:#000000; stroke-width:4; stroke-opacity:1; fill:none\" points=\"\n",
       "  741.601,1425.62 741.601,1406.06 \n",
       "  \"/>\n",
       "<polyline clip-path=\"url(#clip5300)\" style=\"stroke:#000000; stroke-width:4; stroke-opacity:1; fill:none\" points=\"\n",
       "  900.66,1425.62 900.66,1406.06 \n",
       "  \"/>\n",
       "<polyline clip-path=\"url(#clip5300)\" style=\"stroke:#000000; stroke-width:4; stroke-opacity:1; fill:none\" points=\"\n",
       "  1059.72,1425.62 1059.72,1406.06 \n",
       "  \"/>\n",
       "<polyline clip-path=\"url(#clip5300)\" style=\"stroke:#000000; stroke-width:4; stroke-opacity:1; fill:none\" points=\"\n",
       "  1218.78,1425.62 1218.78,1406.06 \n",
       "  \"/>\n",
       "<polyline clip-path=\"url(#clip5300)\" style=\"stroke:#000000; stroke-width:4; stroke-opacity:1; fill:none\" points=\"\n",
       "  1377.84,1425.62 1377.84,1406.06 \n",
       "  \"/>\n",
       "<polyline clip-path=\"url(#clip5300)\" style=\"stroke:#000000; stroke-width:4; stroke-opacity:1; fill:none\" points=\"\n",
       "  1536.9,1425.62 1536.9,1406.06 \n",
       "  \"/>\n",
       "<polyline clip-path=\"url(#clip5300)\" style=\"stroke:#000000; stroke-width:4; stroke-opacity:1; fill:none\" points=\"\n",
       "  1695.96,1425.62 1695.96,1406.06 \n",
       "  \"/>\n",
       "<polyline clip-path=\"url(#clip5300)\" style=\"stroke:#000000; stroke-width:4; stroke-opacity:1; fill:none\" points=\"\n",
       "  1855.02,1425.62 1855.02,1406.06 \n",
       "  \"/>\n",
       "<polyline clip-path=\"url(#clip5300)\" style=\"stroke:#000000; stroke-width:4; stroke-opacity:1; fill:none\" points=\"\n",
       "  2014.08,1425.62 2014.08,1406.06 \n",
       "  \"/>\n",
       "<polyline clip-path=\"url(#clip5300)\" style=\"stroke:#000000; stroke-width:4; stroke-opacity:1; fill:none\" points=\"\n",
       "  2173.14,1425.62 2173.14,1406.06 \n",
       "  \"/>\n",
       "<polyline clip-path=\"url(#clip5300)\" style=\"stroke:#000000; stroke-width:4; stroke-opacity:1; fill:none\" points=\"\n",
       "  243.864,1226.28 275.498,1226.28 \n",
       "  \"/>\n",
       "<polyline clip-path=\"url(#clip5300)\" style=\"stroke:#000000; stroke-width:4; stroke-opacity:1; fill:none\" points=\"\n",
       "  243.864,963.726 275.498,963.726 \n",
       "  \"/>\n",
       "<polyline clip-path=\"url(#clip5300)\" style=\"stroke:#000000; stroke-width:4; stroke-opacity:1; fill:none\" points=\"\n",
       "  243.864,701.167 275.498,701.167 \n",
       "  \"/>\n",
       "<polyline clip-path=\"url(#clip5300)\" style=\"stroke:#000000; stroke-width:4; stroke-opacity:1; fill:none\" points=\"\n",
       "  243.864,438.607 275.498,438.607 \n",
       "  \"/>\n",
       "<polyline clip-path=\"url(#clip5300)\" style=\"stroke:#000000; stroke-width:4; stroke-opacity:1; fill:none\" points=\"\n",
       "  243.864,176.048 275.498,176.048 \n",
       "  \"/>\n",
       "<g clip-path=\"url(#clip5300)\">\n",
       "<text style=\"fill:#000000; fill-opacity:1; font-family:Arial,Helvetica Neue,Helvetica,sans-serif; font-size:48px; text-anchor:middle;\" transform=\"rotate(0, 423.481, 1479.62)\" x=\"423.481\" y=\"1479.62\">815</text>\n",
       "</g>\n",
       "<g clip-path=\"url(#clip5300)\">\n",
       "<text style=\"fill:#000000; fill-opacity:1; font-family:Arial,Helvetica Neue,Helvetica,sans-serif; font-size:48px; text-anchor:middle;\" transform=\"rotate(0, 582.541, 1479.62)\" x=\"582.541\" y=\"1479.62\">1006</text>\n",
       "</g>\n",
       "<g clip-path=\"url(#clip5300)\">\n",
       "<text style=\"fill:#000000; fill-opacity:1; font-family:Arial,Helvetica Neue,Helvetica,sans-serif; font-size:48px; text-anchor:middle;\" transform=\"rotate(0, 741.601, 1479.62)\" x=\"741.601\" y=\"1479.62\">513</text>\n",
       "</g>\n",
       "<g clip-path=\"url(#clip5300)\">\n",
       "<text style=\"fill:#000000; fill-opacity:1; font-family:Arial,Helvetica Neue,Helvetica,sans-serif; font-size:48px; text-anchor:middle;\" transform=\"rotate(0, 900.66, 1479.62)\" x=\"900.66\" y=\"1479.62\">486</text>\n",
       "</g>\n",
       "<g clip-path=\"url(#clip5300)\">\n",
       "<text style=\"fill:#000000; fill-opacity:1; font-family:Arial,Helvetica Neue,Helvetica,sans-serif; font-size:48px; text-anchor:middle;\" transform=\"rotate(0, 1059.72, 1479.62)\" x=\"1059.72\" y=\"1479.62\">51</text>\n",
       "</g>\n",
       "<g clip-path=\"url(#clip5300)\">\n",
       "<text style=\"fill:#000000; fill-opacity:1; font-family:Arial,Helvetica Neue,Helvetica,sans-serif; font-size:48px; text-anchor:middle;\" transform=\"rotate(0, 1218.78, 1479.62)\" x=\"1218.78\" y=\"1479.62\">764</text>\n",
       "</g>\n",
       "<g clip-path=\"url(#clip5300)\">\n",
       "<text style=\"fill:#000000; fill-opacity:1; font-family:Arial,Helvetica Neue,Helvetica,sans-serif; font-size:48px; text-anchor:middle;\" transform=\"rotate(0, 1377.84, 1479.62)\" x=\"1377.84\" y=\"1479.62\">141</text>\n",
       "</g>\n",
       "<g clip-path=\"url(#clip5300)\">\n",
       "<text style=\"fill:#000000; fill-opacity:1; font-family:Arial,Helvetica Neue,Helvetica,sans-serif; font-size:48px; text-anchor:middle;\" transform=\"rotate(0, 1536.9, 1479.62)\" x=\"1536.9\" y=\"1479.62\">582</text>\n",
       "</g>\n",
       "<g clip-path=\"url(#clip5300)\">\n",
       "<text style=\"fill:#000000; fill-opacity:1; font-family:Arial,Helvetica Neue,Helvetica,sans-serif; font-size:48px; text-anchor:middle;\" transform=\"rotate(0, 1695.96, 1479.62)\" x=\"1695.96\" y=\"1479.62\">405</text>\n",
       "</g>\n",
       "<g clip-path=\"url(#clip5300)\">\n",
       "<text style=\"fill:#000000; fill-opacity:1; font-family:Arial,Helvetica Neue,Helvetica,sans-serif; font-size:48px; text-anchor:middle;\" transform=\"rotate(0, 1855.02, 1479.62)\" x=\"1855.02\" y=\"1479.62\">775</text>\n",
       "</g>\n",
       "<g clip-path=\"url(#clip5300)\">\n",
       "<text style=\"fill:#000000; fill-opacity:1; font-family:Arial,Helvetica Neue,Helvetica,sans-serif; font-size:48px; text-anchor:middle;\" transform=\"rotate(0, 2014.08, 1479.62)\" x=\"2014.08\" y=\"1479.62\">7</text>\n",
       "</g>\n",
       "<g clip-path=\"url(#clip5300)\">\n",
       "<text style=\"fill:#000000; fill-opacity:1; font-family:Arial,Helvetica Neue,Helvetica,sans-serif; font-size:48px; text-anchor:middle;\" transform=\"rotate(0, 2173.14, 1479.62)\" x=\"2173.14\" y=\"1479.62\">526</text>\n",
       "</g>\n",
       "<g clip-path=\"url(#clip5300)\">\n",
       "<text style=\"fill:#000000; fill-opacity:1; font-family:Arial,Helvetica Neue,Helvetica,sans-serif; font-size:48px; text-anchor:end;\" transform=\"rotate(0, 219.864, 1243.78)\" x=\"219.864\" y=\"1243.78\">-0.4</text>\n",
       "</g>\n",
       "<g clip-path=\"url(#clip5300)\">\n",
       "<text style=\"fill:#000000; fill-opacity:1; font-family:Arial,Helvetica Neue,Helvetica,sans-serif; font-size:48px; text-anchor:end;\" transform=\"rotate(0, 219.864, 981.226)\" x=\"219.864\" y=\"981.226\">-0.2</text>\n",
       "</g>\n",
       "<g clip-path=\"url(#clip5300)\">\n",
       "<text style=\"fill:#000000; fill-opacity:1; font-family:Arial,Helvetica Neue,Helvetica,sans-serif; font-size:48px; text-anchor:end;\" transform=\"rotate(0, 219.864, 718.667)\" x=\"219.864\" y=\"718.667\">0.0</text>\n",
       "</g>\n",
       "<g clip-path=\"url(#clip5300)\">\n",
       "<text style=\"fill:#000000; fill-opacity:1; font-family:Arial,Helvetica Neue,Helvetica,sans-serif; font-size:48px; text-anchor:end;\" transform=\"rotate(0, 219.864, 456.107)\" x=\"219.864\" y=\"456.107\">0.2</text>\n",
       "</g>\n",
       "<g clip-path=\"url(#clip5300)\">\n",
       "<text style=\"fill:#000000; fill-opacity:1; font-family:Arial,Helvetica Neue,Helvetica,sans-serif; font-size:48px; text-anchor:end;\" transform=\"rotate(0, 219.864, 193.548)\" x=\"219.864\" y=\"193.548\">0.4</text>\n",
       "</g>\n",
       "<g clip-path=\"url(#clip5300)\">\n",
       "<text style=\"fill:#000000; fill-opacity:1; font-family:Arial,Helvetica Neue,Helvetica,sans-serif; font-size:84px; text-anchor:middle;\" transform=\"rotate(0, 1298.31, 73.2)\" x=\"1298.31\" y=\"73.2\">Category 1</text>\n",
       "</g>\n",
       "<g clip-path=\"url(#clip5300)\">\n",
       "<text style=\"fill:#000000; fill-opacity:1; font-family:Arial,Helvetica Neue,Helvetica,sans-serif; font-size:66px; text-anchor:middle;\" transform=\"rotate(0, 1298.31, 1559.48)\" x=\"1298.31\" y=\"1559.48\">Feature</text>\n",
       "</g>\n",
       "<g clip-path=\"url(#clip5300)\">\n",
       "<text style=\"fill:#000000; fill-opacity:1; font-family:Arial,Helvetica Neue,Helvetica,sans-serif; font-size:66px; text-anchor:middle;\" transform=\"rotate(-90, 89.2861, 773.647)\" x=\"89.2861\" y=\"773.647\">Weight</text>\n",
       "</g>\n",
       "<polygon clip-path=\"url(#clip5302)\" points=\"\n",
       "359.857,158.579 359.857,701.167 487.105,701.167 487.105,158.579 359.857,158.579 359.857,158.579 \n",
       "  \" fill=\"#add8e6\" fill-rule=\"evenodd\" fill-opacity=\"1\"/>\n",
       "<polyline clip-path=\"url(#clip5302)\" style=\"stroke:#000000; stroke-width:4; stroke-opacity:1; fill:none\" points=\"\n",
       "  359.857,158.579 359.857,701.167 487.105,701.167 487.105,158.579 359.857,158.579 \n",
       "  \"/>\n",
       "<polygon clip-path=\"url(#clip5302)\" points=\"\n",
       "518.917,181.731 518.917,701.167 646.165,701.167 646.165,181.731 518.917,181.731 518.917,181.731 \n",
       "  \" fill=\"#add8e6\" fill-rule=\"evenodd\" fill-opacity=\"1\"/>\n",
       "<polyline clip-path=\"url(#clip5302)\" style=\"stroke:#000000; stroke-width:4; stroke-opacity:1; fill:none\" points=\"\n",
       "  518.917,181.731 518.917,701.167 646.165,701.167 646.165,181.731 518.917,181.731 \n",
       "  \"/>\n",
       "<polygon clip-path=\"url(#clip5302)\" points=\"\n",
       "677.977,184.454 677.977,701.167 805.225,701.167 805.225,184.454 677.977,184.454 677.977,184.454 \n",
       "  \" fill=\"#afd7e1\" fill-rule=\"evenodd\" fill-opacity=\"1\"/>\n",
       "<polyline clip-path=\"url(#clip5302)\" style=\"stroke:#000000; stroke-width:4; stroke-opacity:1; fill:none\" points=\"\n",
       "  677.977,184.454 677.977,701.167 805.225,701.167 805.225,184.454 677.977,184.454 \n",
       "  \"/>\n",
       "<polygon clip-path=\"url(#clip5302)\" points=\"\n",
       "837.036,186.706 837.036,701.167 964.284,701.167 964.284,186.706 837.036,186.706 837.036,186.706 \n",
       "  \" fill=\"#afd7e1\" fill-rule=\"evenodd\" fill-opacity=\"1\"/>\n",
       "<polyline clip-path=\"url(#clip5302)\" style=\"stroke:#000000; stroke-width:4; stroke-opacity:1; fill:none\" points=\"\n",
       "  837.036,186.706 837.036,701.167 964.284,701.167 964.284,186.706 837.036,186.706 \n",
       "  \"/>\n",
       "<polygon clip-path=\"url(#clip5302)\" points=\"\n",
       "996.096,191.622 996.096,701.167 1123.34,701.167 1123.34,191.622 996.096,191.622 996.096,191.622 \n",
       "  \" fill=\"#afd7e1\" fill-rule=\"evenodd\" fill-opacity=\"1\"/>\n",
       "<polyline clip-path=\"url(#clip5302)\" style=\"stroke:#000000; stroke-width:4; stroke-opacity:1; fill:none\" points=\"\n",
       "  996.096,191.622 996.096,701.167 1123.34,701.167 1123.34,191.622 996.096,191.622 \n",
       "  \"/>\n",
       "<polygon clip-path=\"url(#clip5302)\" points=\"\n",
       "1155.16,219.881 1155.16,701.167 1282.4,701.167 1282.4,219.881 1155.16,219.881 1155.16,219.881 \n",
       "  \" fill=\"#b0d5dd\" fill-rule=\"evenodd\" fill-opacity=\"1\"/>\n",
       "<polyline clip-path=\"url(#clip5302)\" style=\"stroke:#000000; stroke-width:4; stroke-opacity:1; fill:none\" points=\"\n",
       "  1155.16,219.881 1155.16,701.167 1282.4,701.167 1282.4,219.881 1155.16,219.881 \n",
       "  \"/>\n",
       "<polygon clip-path=\"url(#clip5302)\" points=\"\n",
       "1314.22,1361.58 1314.22,701.167 1441.46,701.167 1441.46,1361.58 1314.22,1361.58 1314.22,1361.58 \n",
       "  \" fill=\"#fc8f09\" fill-rule=\"evenodd\" fill-opacity=\"1\"/>\n",
       "<polyline clip-path=\"url(#clip5302)\" style=\"stroke:#000000; stroke-width:4; stroke-opacity:1; fill:none\" points=\"\n",
       "  1314.22,1361.58 1314.22,701.167 1441.46,701.167 1441.46,1361.58 1314.22,1361.58 \n",
       "  \"/>\n",
       "<polygon clip-path=\"url(#clip5302)\" points=\"\n",
       "1473.28,1367.3 1473.28,701.167 1600.52,701.167 1600.52,1367.3 1473.28,1367.3 1473.28,1367.3 \n",
       "  \" fill=\"#fd8d05\" fill-rule=\"evenodd\" fill-opacity=\"1\"/>\n",
       "<polyline clip-path=\"url(#clip5302)\" style=\"stroke:#000000; stroke-width:4; stroke-opacity:1; fill:none\" points=\"\n",
       "  1473.28,1367.3 1473.28,701.167 1600.52,701.167 1600.52,1367.3 1473.28,1367.3 \n",
       "  \"/>\n",
       "<polygon clip-path=\"url(#clip5302)\" points=\"\n",
       "1632.34,1383.49 1632.34,701.167 1759.58,701.167 1759.58,1383.49 1632.34,1383.49 1632.34,1383.49 \n",
       "  \" fill=\"#fd8d05\" fill-rule=\"evenodd\" fill-opacity=\"1\"/>\n",
       "<polyline clip-path=\"url(#clip5302)\" style=\"stroke:#000000; stroke-width:4; stroke-opacity:1; fill:none\" points=\"\n",
       "  1632.34,1383.49 1632.34,701.167 1759.58,701.167 1759.58,1383.49 1632.34,1383.49 \n",
       "  \"/>\n",
       "<polygon clip-path=\"url(#clip5302)\" points=\"\n",
       "1791.4,1383.74 1791.4,701.167 1918.64,701.167 1918.64,1383.74 1791.4,1383.74 1791.4,1383.74 \n",
       "  \" fill=\"#fd8d05\" fill-rule=\"evenodd\" fill-opacity=\"1\"/>\n",
       "<polyline clip-path=\"url(#clip5302)\" style=\"stroke:#000000; stroke-width:4; stroke-opacity:1; fill:none\" points=\"\n",
       "  1791.4,1383.74 1791.4,701.167 1918.64,701.167 1918.64,1383.74 1791.4,1383.74 \n",
       "  \"/>\n",
       "<polygon clip-path=\"url(#clip5302)\" points=\"\n",
       "1950.46,1386.22 1950.46,701.167 2077.7,701.167 2077.7,1386.22 1950.46,1386.22 1950.46,1386.22 \n",
       "  \" fill=\"#fd8d05\" fill-rule=\"evenodd\" fill-opacity=\"1\"/>\n",
       "<polyline clip-path=\"url(#clip5302)\" style=\"stroke:#000000; stroke-width:4; stroke-opacity:1; fill:none\" points=\"\n",
       "  1950.46,1386.22 1950.46,701.167 2077.7,701.167 2077.7,1386.22 1950.46,1386.22 \n",
       "  \"/>\n",
       "<polygon clip-path=\"url(#clip5302)\" points=\"\n",
       "2109.52,1388.71 2109.52,701.167 2236.76,701.167 2236.76,1388.71 2109.52,1388.71 2109.52,1388.71 \n",
       "  \" fill=\"#fd8d05\" fill-rule=\"evenodd\" fill-opacity=\"1\"/>\n",
       "<polyline clip-path=\"url(#clip5302)\" style=\"stroke:#000000; stroke-width:4; stroke-opacity:1; fill:none\" points=\"\n",
       "  2109.52,1388.71 2109.52,701.167 2236.76,701.167 2236.76,1388.71 2109.52,1388.71 \n",
       "  \"/>\n",
       "</svg>\n"
      ]
     },
     "execution_count": 14,
     "metadata": {},
     "output_type": "execute_result"
    }
   ],
   "source": [
    "plot_features(lin, class=1) # plot the most important features for the model\n",
    "# sadly, I couldn't find the words represented by the features for this dataset. The analysis would have been\n",
    "# much more insightful with the actual words."
   ]
  },
  {
   "cell_type": "code",
   "execution_count": null,
   "metadata": {},
   "outputs": [],
   "source": []
  }
 ],
 "metadata": {
  "kernelspec": {
   "display_name": "Julia 1.1.0",
   "language": "julia",
   "name": "julia-1.1"
  },
  "language_info": {
   "file_extension": ".jl",
   "mimetype": "application/julia",
   "name": "julia",
   "version": "1.1.0"
  }
 },
 "nbformat": 4,
 "nbformat_minor": 2
}
